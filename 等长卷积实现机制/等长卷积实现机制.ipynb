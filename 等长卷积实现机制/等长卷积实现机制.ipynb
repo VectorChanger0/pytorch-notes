{
 "cells": [
  {
   "cell_type": "markdown",
   "metadata": {},
   "source": [
    "在某些场景下，我们可能会需要实现等长卷积，等长卷积的实现方式很简单，就是在数据的两端补0。这里，介绍了等长卷积的pytorch实现方式。"
   ]
  },
  {
   "cell_type": "markdown",
   "metadata": {},
   "source": [
    "## 1. 导入需要的库"
   ]
  },
  {
   "cell_type": "code",
   "execution_count": 1,
   "metadata": {},
   "outputs": [],
   "source": [
    "import numpy as np\n",
    "import torch\n",
    "import torch.nn as nn\n",
    "import torch.nn.functional as F"
   ]
  },
  {
   "cell_type": "markdown",
   "metadata": {},
   "source": [
    "## 2. 模拟数据"
   ]
  },
  {
   "cell_type": "code",
   "execution_count": 4,
   "metadata": {},
   "outputs": [],
   "source": [
    "batch_x = torch.LongTensor(np.array([\n",
    "    [1, 2, 3, 4, 5, 0, 0, 0],\n",
    "    [1, 2, 3, 4, 5, 6, 7, 8],\n",
    "    [1, 2, 0, 0, 0, 0, 0, 0]]\n",
    "))\n",
    "mask = (batch_x > 0).float()\n",
    "batch_size = 3\n",
    "max_len = 8"
   ]
  },
  {
   "cell_type": "markdown",
   "metadata": {},
   "source": [
    "设置embedding层："
   ]
  },
  {
   "cell_type": "code",
   "execution_count": 23,
   "metadata": {},
   "outputs": [
    {
     "name": "stdout",
     "output_type": "stream",
     "text": [
      "torch.Size([3, 8, 10])\n"
     ]
    }
   ],
   "source": [
    "alphabet_size = 9\n",
    "input_dim = 10\n",
    "embedding = nn.Embedding(alphabet_size, input_dim, padding_idx=0)\n",
    "batch_x_embed = embedding(batch_x)\n",
    "print(batch_x_embed.size())  # size=(3, 8, 10)"
   ]
  },
  {
   "cell_type": "markdown",
   "metadata": {},
   "source": [
    "## 3. 卷积"
   ]
  },
  {
   "cell_type": "markdown",
   "metadata": {},
   "source": [
    "### 3.1 卷积层"
   ]
  },
  {
   "cell_type": "markdown",
   "metadata": {},
   "source": [
    "首先设置卷积层："
   ]
  },
  {
   "cell_type": "code",
   "execution_count": 21,
   "metadata": {},
   "outputs": [
    {
     "name": "stdout",
     "output_type": "stream",
     "text": [
      "Conv2d(1, 12, kernel_size=(3, 10), stride=(1, 1))\n"
     ]
    }
   ],
   "source": [
    "filter_num = 12\n",
    "window_size = 3\n",
    "conv_encoder = nn.Conv2d(\n",
    "    in_channels=1, out_channels=filter_num, kernel_size=(window_size, input_dim))\n",
    "print(conv_encoder)"
   ]
  },
  {
   "cell_type": "markdown",
   "metadata": {},
   "source": [
    "### 3.2 窄卷积"
   ]
  },
  {
   "cell_type": "markdown",
   "metadata": {},
   "source": [
    "pytorch默认实现的是窄卷积。"
   ]
  },
  {
   "cell_type": "code",
   "execution_count": 25,
   "metadata": {},
   "outputs": [
    {
     "name": "stdout",
     "output_type": "stream",
     "text": [
      "torch.Size([3, 12, 6, 1])\n"
     ]
    }
   ],
   "source": [
    "batch_x_embed = batch_x_embed.unsqueeze(1)  # size=(3, 1, 8, 10)\n",
    "conv_output = conv_encoder(batch_x_embed)\n",
    "print(conv_output.size())  # size=(3, 12, 6, 1)"
   ]
  },
  {
   "cell_type": "markdown",
   "metadata": {},
   "source": [
    "可以看到，原本的长度为8，经卷积之后变为8-3+1=6。"
   ]
  },
  {
   "cell_type": "markdown",
   "metadata": {},
   "source": [
    "### 3.3 等长卷积"
   ]
  },
  {
   "cell_type": "markdown",
   "metadata": {},
   "source": [
    "等长卷积是通过在数据两端补0的方式实现，pytorch提供了一个函数`nn.ZeroPad2d`，函数参数如下：\n",
    "\n",
    "Args:\n",
    "    padding (int, tuple): the size of the padding. If is `int`, uses the same\n",
    "        padding in all boundaries. If a 4-`tuple`, uses (`paddingLeft`, `paddingRight`,\n",
    "        `paddingTop`, `paddingBottom`)\n",
    "\n",
    "对于embedding后的句子来说，我们只需要在其`top`和`bottom`补全(window_size-1)//2行0值。\n",
    "\n",
    "**注**：需要注意的是，若要实现等长卷积，那么卷积核window_size必须设置为奇数。"
   ]
  },
  {
   "cell_type": "code",
   "execution_count": 28,
   "metadata": {},
   "outputs": [
    {
     "name": "stdout",
     "output_type": "stream",
     "text": [
      "torch.Size([3, 1, 8, 10])\n",
      "torch.Size([3, 1, 10, 10])\n"
     ]
    }
   ],
   "source": [
    "pad_size = (window_size-1) // 2\n",
    "pad_op = nn.ZeroPad2d((0, 0, pad_size, pad_size))\n",
    "batch_x_embed_padded = pad_op(batch_x_embed)\n",
    "print(batch_x_embed.size())  # size=(3, 1, 8, 10)\n",
    "print(batch_x_embed_padded.size())  # size=(3, 1, 10, 10)"
   ]
  },
  {
   "cell_type": "markdown",
   "metadata": {},
   "source": [
    "接着，再对padding后的数据进行卷积："
   ]
  },
  {
   "cell_type": "code",
   "execution_count": 32,
   "metadata": {},
   "outputs": [
    {
     "name": "stdout",
     "output_type": "stream",
     "text": [
      "torch.Size([3, 1, 8, 10])\n",
      "torch.Size([3, 12, 8, 1])\n"
     ]
    }
   ],
   "source": [
    "conv_output = conv_encoder(batch_x_embed_padded)\n",
    "print(batch_x_embed.size())  # size=(3, 1, 8, 10)\n",
    "print(conv_output.size())  # size=(3, 12, 6, 1)"
   ]
  },
  {
   "cell_type": "markdown",
   "metadata": {},
   "source": [
    "可以看出，卷积之后的长度依然是8。"
   ]
  }
 ],
 "metadata": {
  "kernelspec": {
   "display_name": "Python 3",
   "language": "python",
   "name": "python3"
  },
  "language_info": {
   "codemirror_mode": {
    "name": "ipython",
    "version": 3
   },
   "file_extension": ".py",
   "mimetype": "text/x-python",
   "name": "python",
   "nbconvert_exporter": "python",
   "pygments_lexer": "ipython3",
   "version": "3.5.2"
  }
 },
 "nbformat": 4,
 "nbformat_minor": 2
}
